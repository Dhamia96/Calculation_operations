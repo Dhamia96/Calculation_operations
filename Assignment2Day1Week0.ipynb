{
 "cells": [
  {
   "cell_type": "markdown",
   "metadata": {},
   "source": [
    "Biggie Size - Given a list, write a function that changes all positive numbers in the list to \"big\".\n",
    "\n",
    "    Example: biggie_size([-1, 3, 5, -5]) returns that same list, but whose values are now [-1, \"big\", \"big\", -5]"
   ]
  },
  {
   "cell_type": "code",
   "execution_count": 19,
   "metadata": {},
   "outputs": [
    {
     "name": "stdout",
     "output_type": "stream",
     "text": [
      "[-1, 'big', 'big', -5]\n"
     ]
    }
   ],
   "source": [
    "def biggie_size(listName):\n",
    "\n",
    "    i=0\n",
    "    while i < len(listName):\n",
    "        if(listName[i] > 0):\n",
    "            listName[i]= \"big\"\n",
    "        i+=1\n",
    "    return listName\n",
    "\n",
    "updated_list= biggie_size([-1, 3, 5, -5])\n",
    "print(updated_list)\n"
   ]
  },
  {
   "cell_type": "markdown",
   "metadata": {},
   "source": [
    "Given a list of numbers, create a function to replace the last value with the number of positive values. (Note that zero is not considered to be a positive number).\n"
   ]
  },
  {
   "cell_type": "code",
   "execution_count": 35,
   "metadata": {},
   "outputs": [
    {
     "name": "stdout",
     "output_type": "stream",
     "text": [
      "[1, 6, -4, -2, -7, 2]\n"
     ]
    }
   ],
   "source": [
    "\n",
    "def Count_Positives(listName):\n",
    "    i=0\n",
    "    count=0\n",
    "    while i < len(listName):\n",
    "        if(listName[i] > 0 ):\n",
    "            count+=1\n",
    "        if(i == (len(listName)-1)):\n",
    "            listName[i] = count\n",
    "        i+=1 \n",
    "    print(listName)\n",
    "    \n",
    "Count_Positives([1,6,-4,-2,-7,-2])       \n",
    "    "
   ]
  },
  {
   "cell_type": "markdown",
   "metadata": {},
   "source": [
    "Create a function that takes a list and returns the sum of all the values in the array."
   ]
  },
  {
   "cell_type": "code",
   "execution_count": 39,
   "metadata": {},
   "outputs": [
    {
     "name": "stdout",
     "output_type": "stream",
     "text": [
      "7\n"
     ]
    }
   ],
   "source": [
    "def sum_total(listName):\n",
    "    sum=0\n",
    "    for x in listName:\n",
    "        sum+=x\n",
    "    return sum\n",
    "sum= sum_total([6,3,-2])\n",
    "print(sum)"
   ]
  },
  {
   "cell_type": "markdown",
   "metadata": {},
   "source": [
    "Create a function that takes a list and returns the average of all the values."
   ]
  },
  {
   "cell_type": "code",
   "execution_count": 42,
   "metadata": {},
   "outputs": [
    {
     "name": "stdout",
     "output_type": "stream",
     "text": [
      "2.5\n"
     ]
    }
   ],
   "source": [
    "def average(listName):\n",
    "    sum=0\n",
    "    for x in listName:\n",
    "        sum+=x\n",
    "    avg= sum / len(listName)\n",
    "    return avg\n",
    "\n",
    "avg=average([1,2,3,4])\n",
    "print(avg)"
   ]
  },
  {
   "cell_type": "code",
   "execution_count": 49,
   "metadata": {},
   "outputs": [
    {
     "name": "stdout",
     "output_type": "stream",
     "text": [
      "The length of the first list = 4\n",
      "The length of the second list = 0\n"
     ]
    }
   ],
   "source": [
    "def count_length(listName):\n",
    "    length= len(listName)\n",
    "    return length\n",
    "\n",
    "length1=count_length([37,2,1,-9])\n",
    "length2=count_length([])\n",
    "print(\"The length of the first list =\", length1)\n",
    "print(\"The length of the second list =\", length2)"
   ]
  },
  {
   "cell_type": "markdown",
   "metadata": {},
   "source": [
    "Create a function that takes a list of numbers and returns the minimum value in the list. (Optional) If the list is empty, have the function return False."
   ]
  },
  {
   "cell_type": "code",
   "execution_count": 74,
   "metadata": {},
   "outputs": [
    {
     "name": "stdout",
     "output_type": "stream",
     "text": [
      "The minimum number of [37,2,1,-9]= -9\n",
      "The minimum number of an empty list= False\n"
     ]
    }
   ],
   "source": [
    "def Minimum(Mylist):\n",
    "    if(len(Mylist)==0):\n",
    "        return False\n",
    "    else:\n",
    "        min=Mylist[0] \n",
    "        i=0\n",
    "        while i < len(Mylist): \n",
    "            if(Mylist[i+1] < min): \n",
    "                min = Mylist[i+1] \n",
    "            i+=1 \n",
    "            if(i == len(Mylist)-1):\n",
    "                break\n",
    "        return min\n",
    "    \n",
    "result1= Minimum([37,2,1,-9])\n",
    "result2= Minimum([])\n",
    "print(\"The minimum number of [37,2,1,-9]=\",result1)\n",
    "print(\"The minimum number of an empty list=\",result2)"
   ]
  },
  {
   "cell_type": "markdown",
   "metadata": {},
   "source": [
    "Create a function that takes a list and returns the maximum value in the array. (Optional) If the list is empty, have the function return False."
   ]
  },
  {
   "cell_type": "code",
   "execution_count": 76,
   "metadata": {},
   "outputs": [
    {
     "name": "stdout",
     "output_type": "stream",
     "text": [
      "The maximum number of [37,2,1,-9]= 37\n",
      "The maximum number of an empty list= False\n"
     ]
    }
   ],
   "source": [
    "def Maximum(Mylist):\n",
    "    if(len(Mylist)==0):\n",
    "        return False\n",
    "    else:\n",
    "        max=Mylist[0] \n",
    "        i=0\n",
    "        while i > len(Mylist): \n",
    "            if(Mylist[i+1] > max): \n",
    "                max = Mylist[i+1] \n",
    "            i+=1 \n",
    "            if(i == len(Mylist)-1):\n",
    "                break\n",
    "        return max\n",
    "    \n",
    "result1= Maximum([37,2,1,-9])\n",
    "result2= Maximum([])\n",
    "print(\"The maximum number of [37,2,1,-9]=\",result1)\n",
    "print(\"The maximum number of an empty list=\",result2)"
   ]
  },
  {
   "cell_type": "markdown",
   "metadata": {},
   "source": [
    "Create a function that takes a list and returns a dictionary that has the sumTotal, average, minimum, maximum and length of the list."
   ]
  },
  {
   "cell_type": "code",
   "execution_count": 85,
   "metadata": {},
   "outputs": [
    {
     "name": "stdout",
     "output_type": "stream",
     "text": [
      "('sumTotal', 31)\n",
      "('average', 7.75)\n",
      "('minimum', -9)\n",
      "('maximum', 37)\n"
     ]
    }
   ],
   "source": [
    "def ultimate_analysis(MyList):\n",
    "    sum=0\n",
    "    min=MyList[0]\n",
    "    max=MyList[0]\n",
    "    i=0\n",
    "    while i < len(MyList):\n",
    "        sum+=MyList[i]\n",
    "        if(i == len(MyList)-1):\n",
    "            break\n",
    "        if(MyList[i+1] < min):\n",
    "            min= ll[i+1]\n",
    "        if(MyList[i+1] > max):\n",
    "            max= MyList[i+1]\n",
    "        i+=1   \n",
    "    avg=sum/len(MyList)\n",
    "    Mydict={\"sumTotal\":sum, \"average\":avg, \"minimum\":min,\"maximum\":max}\n",
    "    return Mydict\n",
    "result=ultimate_analysis([37,2,1,-9])\n",
    "for x in result.items():\n",
    "    print(x)"
   ]
  },
  {
   "cell_type": "markdown",
   "metadata": {},
   "source": [
    "Create a function that takes a list and returns that list with values reversed. Do this without creating a second list."
   ]
  },
  {
   "cell_type": "code",
   "execution_count": 1,
   "metadata": {},
   "outputs": [
    {
     "name": "stdout",
     "output_type": "stream",
     "text": [
      "[-9, 2, 1, 37]\n"
     ]
    }
   ],
   "source": [
    "def Reverse_List(original_list):\n",
    "    x=original_list[0]\n",
    "    y=original_list[len(original_list)-1]\n",
    "    inc=0\n",
    "    dec= len(original_list)-1\n",
    "    while True:\n",
    "        temp= x\n",
    "        x= y        \n",
    "        y= temp\n",
    "        original_list[inc]=x\n",
    "        original_list[dec]=y\n",
    "        inc+=1\n",
    "        dec-=1\n",
    "        if( inc < dec ): #for even list length\n",
    "            break\n",
    "        elif(inc== dec): #for odd list length\n",
    "            break\n",
    "    return original_list\n",
    "    \n",
    "reversed_list=Reverse_List([37,2,1,-9])\n",
    "print(reversed_list)\n"
   ]
  }
 ],
 "metadata": {
  "kernelspec": {
   "display_name": "Python 3",
   "language": "python",
   "name": "python3"
  },
  "language_info": {
   "codemirror_mode": {
    "name": "ipython",
    "version": 3
   },
   "file_extension": ".py",
   "mimetype": "text/x-python",
   "name": "python",
   "nbconvert_exporter": "python",
   "pygments_lexer": "ipython3",
   "version": "3.8.5"
  }
 },
 "nbformat": 4,
 "nbformat_minor": 4
}
